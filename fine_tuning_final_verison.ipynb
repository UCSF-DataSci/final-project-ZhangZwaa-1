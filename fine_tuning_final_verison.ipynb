{
 "cells": [
  {
   "cell_type": "markdown",
   "id": "67b8295d",
   "metadata": {},
   "source": [
    "# Fine tune LLM: From Causal Model to a Chatbot\n",
    "\n",
    "Author: Zairen Zhu, Zhengwei Zhang, Borui Cai\n",
    "\n",
    "## Introduction\n",
    "\n",
    "In this project, we will implement two fine tuning method on a base model, and compare The result and difference.\n",
    "\n",
    "## Basic Configuration\n",
    "\n",
    "Befor we start, \n",
    "- install all the requirements in `./requirements.txt`. \n",
    "- run the following cell to import packages and log in to hugging face. You need to apply a token [here](https://huggingface.co/settings/tokens)\n",
    "- Check the output of the following cells. A CUDA device is highly recommended."
   ]
  },
  {
   "cell_type": "code",
   "execution_count": null,
   "id": "faa8a6de",
   "metadata": {},
   "outputs": [],
   "source": [
    "! pip install -U torch transformers accelerate datasets evaluate accelerate timm bitsandbytes accelerate"
   ]
  },
  {
   "cell_type": "code",
   "execution_count": null,
   "id": "573fca79",
   "metadata": {},
   "outputs": [
    {
     "name": "stdout",
     "output_type": "stream",
     "text": [
      "Logged in as  Tianlu\n",
      "You have access to the models and datasets.\n",
      "Go on the next cell to load the dataset and model.\n",
      "Transformers version: 4.52.4\n",
      "Using device: cuda\n"
     ]
    }
   ],
   "source": [
    "from huggingface_hub import notebook_login, whoami\n",
    "from pprint import pprint\n",
    "import torch\n",
    "from datasets import load_dataset, DatasetDict\n",
    "try: \n",
    "    whoami()['fullname'] is not None\n",
    "    print('Logged in as ', whoami()['fullname'])\n",
    "    print('You have access to the models and datasets.\\nGo on the next cell to load the dataset and model.')\n",
    "except: \n",
    "    print('input token in the following comment to get access to the models and datasets')\n",
    "    notebook_login()\n",
    "\n",
    "from transformers import __version__\n",
    "print(f\"Transformers version: {__version__}\")\n",
    "device = torch.device(\"mps\" if torch.backends.mps.is_available() else 'cuda' if torch.cuda.is_available() else 'cpu')\n",
    "print(f\"Using device: {device}\")"
   ]
  },
  {
   "cell_type": "markdown",
   "id": "adbdbbbe",
   "metadata": {},
   "source": [
    "## Load a causal model\n",
    "\n",
    "Then we load a causal model form `EleutherAI/pythia-1.4b`. This is a causal model, which designed for investigating how large language models evolve during training. We choose 1.4b parameter for a balance of performance and limited calculation resource.\n",
    "\n",
    "So let's download this model and load it."
   ]
  },
  {
   "cell_type": "code",
   "execution_count": 3,
   "id": "1576052f",
   "metadata": {},
   "outputs": [],
   "source": [
    "from transformers import AutoModelForCausalLM, AutoTokenizer\n",
    "checkpoint = \"EleutherAI/pythia-1.4b\"\n",
    "\n",
    "model = AutoModelForCausalLM.from_pretrained(checkpoint, torch_dtype=torch.bfloat16, device_map=\"auto\")\n",
    "tokenizer = AutoTokenizer.from_pretrained(checkpoint,)\n",
    "if tokenizer.pad_token is None:\n",
    "    tokenizer.pad_token = tokenizer.eos_token\n"
   ]
  },
  {
   "cell_type": "markdown",
   "id": "72e032c9",
   "metadata": {},
   "source": [
    "We want to see how this model perform on a basic science problem. So run on next cell to see it response:"
   ]
  },
  {
   "cell_type": "code",
   "execution_count": 4,
   "id": "37c855ff",
   "metadata": {},
   "outputs": [
    {
     "name": "stderr",
     "output_type": "stream",
     "text": [
      "Setting `pad_token_id` to `eos_token_id`:0 for open-end generation.\n"
     ]
    },
    {
     "name": "stdout",
     "output_type": "stream",
     "text": [
      "\n",
      "Which of the following is produced during the process of cellular respiration?  Choices are:  sodium chloride, oxygen, sugar, carbon dioxide,\n",
      "\n",
      "A:\n",
      "\n",
      "The answer is:\n",
      "\n",
      "sodium chloride\n",
      "\n",
      "The process of cellular respiration is:\n",
      "\n",
      "sodium chloride is oxidized to sodium hydroxide\n",
      "sodium hydroxide is oxidized to sodium carbonate\n",
      "sodium carbonate is oxidized to sodium bicarbonate\n",
      "sodium bicarbonate is oxidized to carbon dioxide\n"
     ]
    }
   ],
   "source": [
    "# To test the model with a question\n",
    "testcase = '''\n",
    "Which of the following is produced during the process of cellular respiration?  Choices are:  sodium chloride, oxygen, sugar, carbon dioxide,\n",
    "'''\n",
    "model_inputs = tokenizer(testcase, return_tensors=\"pt\").to(device)\n",
    "\n",
    "generated_ids = model.generate(**model_inputs, max_new_tokens=64,)\n",
    "print(tokenizer.batch_decode(generated_ids, skip_special_tokens=False)[0])\n",
    "# summarize the output, and state why we need to fine-tune the model"
   ]
  },
  {
   "cell_type": "markdown",
   "id": "a7c1bd53",
   "metadata": {},
   "source": [
    "Unfortunately, the model does not answer the question. It is because the nature of a causal model: always predict following words, but not having a sence to answer question. \n",
    "\n",
    "This example response shows the necessary of **fine tuning a model to a chatbot**, because without fine tuning, it can just repeat your prompts."
   ]
  },
  {
   "cell_type": "markdown",
   "id": "a399b4dc",
   "metadata": {},
   "source": [
    "## Load training data and formatted\n",
    "\n",
    "Here we load `ARC-Easey`, a subset from `allenai/ai2_arc`, including elementary-level science questions. Each example in the raw dataset consists of a question a set of multiple-choice options, and the correct answer key like 'A', 'B', C or 'D'.\n",
    "\n",
    "For better training, we combine train and test set as train set, and rename the validation set as test set."
   ]
  },
  {
   "cell_type": "code",
   "execution_count": 5,
   "id": "2ce80385",
   "metadata": {},
   "outputs": [],
   "source": [
    "from transformers import TrainingArguments, Trainer, DataCollatorForLanguageModeling\n",
    "from datasets import load_dataset, DatasetDict, concatenate_datasets\n",
    "\n",
    "arc = load_dataset('allenai/ai2_arc','ARC-Easy')\n",
    "# Combine train and test sets into new train set, use validation as test set\n",
    "combined_train = concatenate_datasets([arc['train'], arc['test']])\n",
    "arc = DatasetDict({\n",
    "    'train': combined_train,\n",
    "    'test': arc['validation']\n",
    "})"
   ]
  },
  {
   "cell_type": "markdown",
   "id": "6ae00f2e",
   "metadata": {},
   "source": [
    "Take a look at the size of dataset, features of data and a example."
   ]
  },
  {
   "cell_type": "code",
   "execution_count": 6,
   "id": "a78081b4",
   "metadata": {},
   "outputs": [
    {
     "data": {
      "text/plain": [
       "'train set size:'"
      ]
     },
     "metadata": {},
     "output_type": "display_data"
    },
    {
     "data": {
      "text/plain": [
       "4627"
      ]
     },
     "metadata": {},
     "output_type": "display_data"
    },
    {
     "data": {
      "text/plain": [
       "'test set size:'"
      ]
     },
     "metadata": {},
     "output_type": "display_data"
    },
    {
     "data": {
      "text/plain": [
       "570"
      ]
     },
     "metadata": {},
     "output_type": "display_data"
    },
    {
     "data": {
      "text/plain": [
       "{'id': Value(dtype='string', id=None),\n",
       " 'question': Value(dtype='string', id=None),\n",
       " 'choices': Sequence(feature={'text': Value(dtype='string', id=None), 'label': Value(dtype='string', id=None)}, length=-1, id=None),\n",
       " 'answerKey': Value(dtype='string', id=None)}"
      ]
     },
     "metadata": {},
     "output_type": "display_data"
    },
    {
     "data": {
      "text/plain": [
       "{'id': 'WASL_2003_5_9',\n",
       " 'question': 'Which object below is gaining stored energy?',\n",
       " 'choices': {'text': ['A rubber band that is being stretched',\n",
       "   'A battery in a flashlight that is on',\n",
       "   'A candle that is burning'],\n",
       "  'label': ['A', 'B', 'C']},\n",
       " 'answerKey': 'A'}"
      ]
     },
     "metadata": {},
     "output_type": "display_data"
    }
   ],
   "source": [
    "display('train set size:', len(arc['train']))\n",
    "display('test set size:', len(arc['test']))\n",
    "display(arc['train'].features)\n",
    "display(arc['train'][289])"
   ]
  },
  {
   "cell_type": "markdown",
   "id": "6d6a4b49",
   "metadata": {},
   "source": [
    "Then we format this structured data into plain text, and notate the instruction and response in the following way:\n",
    "\n",
    "```\n",
    "### Instruction:\n",
    "[Question text] Choices are: [List of choices, comma-separated] \n",
    " \n",
    "### Response:\n",
    "[Correct Answer text]\n",
    "```\n",
    "\n",
    "Run the next cell, we format this dataset, and take a look at one example."
   ]
  },
  {
   "cell_type": "code",
   "execution_count": 7,
   "id": "a46a9f64",
   "metadata": {},
   "outputs": [
    {
     "name": "stdout",
     "output_type": "stream",
     "text": [
      "('### Instruction:\\n'\n",
      " ' Which object below is gaining stored energy? . \\n'\n",
      " '\\n'\n",
      " ' ### Response:\\n'\n",
      " ' A rubber band that is being stretched \\n')\n"
     ]
    }
   ],
   "source": [
    "def to_format(example: DatasetDict):\n",
    "    question = example['question']\n",
    "    choices: list[str] = example['choices']['text']\n",
    "    answerKey = example['answerKey']\n",
    "    answer = choices[ord(answerKey)- (ord('A') if example['answerKey'].isupper() else ord('1'))]\n",
    "    choices_str = ' Choices are: ' + choices[0] + ', ' + choices[1] + ', ' + choices[2] + ', ' + choices[3] if len(choices) > 3 else '.'\n",
    "    return {\n",
    "        'text': f\"### Instruction:\\n {question} {choices_str} \\n\\n ### Response:\\n {answer} \\n\"\n",
    "    }\n",
    "\n",
    "arc_formatted = arc.map(to_format)\n",
    "\n",
    "pprint(arc_formatted['train'][289]['text'])"
   ]
  },
  {
   "cell_type": "markdown",
   "id": "b0b78338",
   "metadata": {},
   "source": [
    "The next thing is to filter examples not too long (over 500 characters). It helps to reduce the useless padding marker in training, then improve training efficiency.\n",
    "\n",
    "Run the next cell, we filter examples ans display the number of examples remaining."
   ]
  },
  {
   "cell_type": "code",
   "execution_count": 8,
   "id": "9066df75",
   "metadata": {},
   "outputs": [
    {
     "data": {
      "text/plain": [
       "'number of examples after filtering: 4370'"
      ]
     },
     "metadata": {},
     "output_type": "display_data"
    },
    {
     "data": {
      "text/plain": [
       "'number of examples after filtering: 541'"
      ]
     },
     "metadata": {},
     "output_type": "display_data"
    }
   ],
   "source": [
    "\n",
    "def filter_short(example: DatasetDict):\n",
    "    texts = example['text']\n",
    "    return [len(text) <= 500 for text in texts]\n",
    "arc_formatted = arc_formatted.filter(filter_short, batched=True)\n",
    "display(f'number of examples after filtering: {len(arc_formatted['train'])}', )\n",
    "display(f'number of examples after filtering: {len(arc_formatted['test'])}', )"
   ]
  },
  {
   "cell_type": "markdown",
   "id": "e731b195",
   "metadata": {},
   "source": [
    "Only about 6% examples are filtered out, so it do not significantly reduce the number of cases.\n",
    "\n",
    "In the next cell, we randomly choose 10 examples from test set for a evaluation after fine tuning."
   ]
  },
  {
   "cell_type": "code",
   "execution_count": 9,
   "id": "6a6f316c",
   "metadata": {},
   "outputs": [],
   "source": [
    "from numpy import random\n",
    "testcase = list()\n",
    "random.seed(46)\n",
    "for _ in range(10):\n",
    "    i = random.randint(0, len(arc_formatted['test']) - 1)\n",
    "    text = arc_formatted['test'][i]['text']\n",
    "    prompt = text.split('### Response:')[0].strip() + '\\n### Response:'\n",
    "    answer = text.split('### Response:')[1].strip()\n",
    "    testcase.append({\n",
    "        'prompt': prompt,\n",
    "        'answer': answer\n",
    "    })"
   ]
  },
  {
   "attachments": {
    "image.png": {
     "image/png": "[encoded data removed]"
    }
   },
   "cell_type": "markdown",
   "id": "4e8e4226",
   "metadata": {},
   "source": [
    "## Tokenization and labelling\n",
    "\n",
    "Codes in the next cell are a little bit complex. Overally, we create three new list for each example, that is `input_ids`, `labels` and `attention_mask`.\n",
    "\n",
    "- `input_ids`: Numerical representation of the input text.\n",
    "    - Generated by the Pythia tokenizer.\n",
    "    - Fixed length (128 tokens) by truncating or padding with token 0.\n",
    "\n",
    "- `labels`: The target tokens the model should predict during training.\n",
    "    - Typically shifted input tokens for causal models.\n",
    "    - **Crucially**, masked (-100) for tokens *before* the `### Response:` marker.\n",
    "    - Masked (-100) for *padding* tokens *after* the response.\n",
    "    - Loss is calculated *only* on non -100 labels, focusing learning on the response part.\n",
    "\n",
    "- `attention_mask`: Indicates which tokens are actual content.\n",
    "    - Binary mask (1 for content, 0 for padding).\n",
    "    - Tells the model to ignore padding tokens.\n",
    "\n",
    "Here is an visuallized example of how it works.\n",
    "\n",
    "![image.png](attachment:image.png)\n"
   ]
  },
  {
   "cell_type": "code",
   "execution_count": 10,
   "id": "fea17ae5",
   "metadata": {},
   "outputs": [
    {
     "name": "stdout",
     "output_type": "stream",
     "text": [
      "Number of examples: 4370\n",
      "Number of test examples: 541\n"
     ]
    },
    {
     "data": {
      "text/plain": [
       "{'input_ids': Sequence(feature=Value(dtype='int32', id=None), length=-1, id=None),\n",
       " 'attention_mask': Sequence(feature=Value(dtype='int8', id=None), length=-1, id=None),\n",
       " 'labels': Sequence(feature=Value(dtype='int64', id=None), length=-1, id=None)}"
      ]
     },
     "execution_count": 10,
     "metadata": {},
     "output_type": "execute_result"
    }
   ],
   "source": [
    "response_template = ' ### Response:\\n'\n",
    "response_template_ids = tokenizer.encode(response_template, add_special_tokens=False)\n",
    "response_template_ids_len = len(response_template_ids)\n",
    "\n",
    "def add_labels(example: DatasetDict):\n",
    "    tokenized_inputs = tokenizer(\n",
    "        example['text'],\n",
    "        truncation=True,\n",
    "        max_length=256,\n",
    "        padding='max_length',\n",
    "    )\n",
    "\n",
    "    labels = tokenized_inputs['input_ids'].copy()\n",
    "    # display(labels)\n",
    "    index = -1\n",
    "    for i in range(len(labels) - response_template_ids_len + 1):\n",
    "        if labels[i:i + response_template_ids_len] == response_template_ids:\n",
    "            index = i + response_template_ids_len\n",
    "            break\n",
    "    assert index != -1, f\"Response template not found in tokenized inputs.\\n {example['text']}\"\n",
    "    labels[:index] = [-100] * index\n",
    "    for i in range(index, len(labels)):\n",
    "        if labels[i] == tokenizer.pad_token_id:\n",
    "            labels[i] = -100\n",
    "    tokenized_inputs['labels'] = labels\n",
    "    return tokenized_inputs\n",
    "\n",
    "arc_tokenized = arc_formatted.map(add_labels, remove_columns=['id','question','choices', 'answerKey', 'text'], batched =False)\n",
    "# example = DatasetDict({'text': ['### Instruction:\\nWhat is the capital of France?\\n\\n### Response:\\n Paris.\\n']})\n",
    "# add_labels(example)\n",
    "# example = arc_formatted['train'][368]\n",
    "# pprint(f\"Example text: {example['text']}\")\n",
    "# add_labels(example)\n",
    "print(f\"Number of examples: {len(arc_tokenized['train'])}\")\n",
    "print(f\"Number of test examples: {len(arc_tokenized['test'])}\")\n",
    "arc_tokenized['train'].features"
   ]
  },
  {
   "cell_type": "markdown",
   "id": "ae3bc576",
   "metadata": {},
   "source": [
    "## Fine Tuning method 1: Full Parameter\n",
    "\n",
    "The first method we try on here is full parameter fine tuning. In the next cell, we\n",
    "\n",
    "- Set data collator\n",
    "- Set training arguments,\n",
    "  - Use epoch = 1 for time saving\n",
    "  - Evaluate every 50 steps\n",
    "- Train the model\n",
    "- Save the model"
   ]
  },
  {
   "cell_type": "code",
   "execution_count": 12,
   "id": "80b8a9d5",
   "metadata": {},
   "outputs": [],
   "source": [
    "data_collator = DataCollatorForLanguageModeling(\n",
    "    tokenizer=tokenizer,\n",
    "    mlm=False,  # Causal language model does not use MLM\n",
    ")"
   ]
  },
  {
   "cell_type": "code",
   "execution_count": 13,
   "id": "f4487c1e",
   "metadata": {},
   "outputs": [
    {
     "name": "stderr",
     "output_type": "stream",
     "text": [
      "C:\\Users\\Zhengwei\\AppData\\Local\\Temp\\ipykernel_52848\\1204245298.py:15: FutureWarning: `tokenizer` is deprecated and will be removed in version 5.0.0 for `Trainer.__init__`. Use `processing_class` instead.\n",
      "  trainer = Trainer(\n"
     ]
    },
    {
     "data": {
      "text/html": [
       "\n",
       "    <div>\n",
       "      \n",
       "      <progress value='547' max='547' style='width:300px; height:20px; vertical-align: middle;'></progress>\n",
       "      [547/547 08:04, Epoch 1/1]\n",
       "    </div>\n",
       "    <table border=\"1\" class=\"dataframe\">\n",
       "  <thead>\n",
       " <tr style=\"text-align: left;\">\n",
       "      <th>Step</th>\n",
       "      <th>Training Loss</th>\n",
       "      <th>Validation Loss</th>\n",
       "    </tr>\n",
       "  </thead>\n",
       "  <tbody>\n",
       "    <tr>\n",
       "      <td>50</td>\n",
       "      <td>No log</td>\n",
       "      <td>2.946114</td>\n",
       "    </tr>\n",
       "    <tr>\n",
       "      <td>100</td>\n",
       "      <td>No log</td>\n",
       "      <td>2.470195</td>\n",
       "    </tr>\n",
       "    <tr>\n",
       "      <td>150</td>\n",
       "      <td>No log</td>\n",
       "      <td>2.165443</td>\n",
       "    </tr>\n",
       "    <tr>\n",
       "      <td>200</td>\n",
       "      <td>No log</td>\n",
       "      <td>2.041997</td>\n",
       "    </tr>\n",
       "    <tr>\n",
       "      <td>250</td>\n",
       "      <td>No log</td>\n",
       "      <td>1.993502</td>\n",
       "    </tr>\n",
       "    <tr>\n",
       "      <td>300</td>\n",
       "      <td>No log</td>\n",
       "      <td>1.965072</td>\n",
       "    </tr>\n",
       "    <tr>\n",
       "      <td>350</td>\n",
       "      <td>No log</td>\n",
       "      <td>1.954453</td>\n",
       "    </tr>\n",
       "    <tr>\n",
       "      <td>400</td>\n",
       "      <td>No log</td>\n",
       "      <td>1.948004</td>\n",
       "    </tr>\n",
       "    <tr>\n",
       "      <td>450</td>\n",
       "      <td>No log</td>\n",
       "      <td>1.951312</td>\n",
       "    </tr>\n",
       "    <tr>\n",
       "      <td>500</td>\n",
       "      <td>2.132500</td>\n",
       "      <td>1.950860</td>\n",
       "    </tr>\n",
       "  </tbody>\n",
       "</table><p>"
      ],
      "text/plain": [
       "<IPython.core.display.HTML object>"
      ]
     },
     "metadata": {},
     "output_type": "display_data"
    }
   ],
   "source": [
    "training_args = TrainingArguments(\n",
    "    output_dir=\"./arc-finetuned\",\n",
    "    learning_rate=2e-6,\n",
    "    per_device_train_batch_size=8,\n",
    "    num_train_epochs=1,\n",
    "    weight_decay=0.01,\n",
    "    remove_unused_columns=False,\n",
    "    eval_strategy=\"steps\",\n",
    "    save_strategy=\"steps\",\n",
    "    eval_steps=50,\n",
    "    save_total_limit=2,\n",
    "    load_best_model_at_end=True,\n",
    ")\n",
    "\n",
    "trainer = Trainer(\n",
    "    model=model,\n",
    "    args=training_args,\n",
    "    train_dataset=arc_tokenized['train'],\n",
    "    eval_dataset=arc_tokenized['test'],\n",
    "    tokenizer=tokenizer,\n",
    "    data_collator=data_collator,\n",
    ")\n",
    "\n",
    "trainer.train()\n",
    "trainer.save_model(\"./arc-finetuned\")\n"
   ]
  },
  {
   "cell_type": "markdown",
   "id": "68d3961c",
   "metadata": {},
   "source": [
    "Training time elapse: 1:25:36 for 1 epoch in cpu AMD Ryzen 9900X 12 cores 24 threads. \n",
    "\n",
    "In Cuda with GPU Nvidia RTX 4080 Super, time elapse: 7:57. We will compare this time with another method of fine tuning."
   ]
  },
  {
   "cell_type": "markdown",
   "id": "6aa32194",
   "metadata": {},
   "source": [
    "### Inference the model with full parameter fine tuned\n",
    "\n",
    "Next, we will test this model on testcases we create before. In next cell, we load the data and run the evaluation. "
   ]
  },
  {
   "cell_type": "code",
   "execution_count": 14,
   "id": "3e85d14c",
   "metadata": {},
   "outputs": [
    {
     "name": "stdout",
     "output_type": "stream",
     "text": [
      "Tokenizer loaded from ./arc-finetuned\n",
      "Using device: cuda\n",
      "Model loaded from ./arc-finetuned and moved to cuda\n",
      "\n",
      "--- start inference ---\n"
     ]
    }
   ],
   "source": [
    "\n",
    "import torch\n",
    "from transformers import AutoModelForCausalLM, AutoTokenizer\n",
    "model_dir = \"./arc-finetuned\"\n",
    "try:\n",
    "    tokenizer = AutoTokenizer.from_pretrained(model_dir)\n",
    "    print(f\"Tokenizer loaded from {model_dir}\")\n",
    "except Exception as e:\n",
    "    print(f\"Error loading tokenizer from {model_dir}: {e}\")\n",
    "    print(\"Please ensure the directory contains tokenizer files (e.g., tokenizer_config.json, vocab.json).\")\n",
    "    exit()\n",
    "print(f\"Using device: {device}\")\n",
    "try:\n",
    "    model = AutoModelForCausalLM.from_pretrained(model_dir).to(device)\n",
    "    model.eval()\n",
    "    print(f\"Model loaded from {model_dir} and moved to {device}\")\n",
    "except Exception as e:\n",
    "    print(f\"Error loading model from {model_dir}: {e}\")\n",
    "    print(\"Please ensure the directory contains model files (e.g., config.json, pytorch_model.bin).\")\n",
    "    exit()\n",
    "\n",
    "def generate_response(prompt, input_text=None, max_new_tokens=32):\n",
    "    input_ids = tokenizer(prompt, return_tensors=\"pt\").input_ids.to(device)\n",
    "    prompt_length = input_ids.shape[1]\n",
    "   \n",
    "    generated_ids = model.generate(\n",
    "        input_ids,\n",
    "        max_new_tokens=max_new_tokens, \n",
    "        num_beams=1,  \n",
    "        do_sample=False,             \n",
    "        pad_token_id=tokenizer.eos_token_id, \n",
    "        eos_token_id=tokenizer.eos_token_id  \n",
    "    )\n",
    "    generated_response_ids = generated_ids[0][prompt_length:]\n",
    "    response = tokenizer.decode(generated_response_ids, skip_special_tokens=True).strip()\n",
    "    response = response.split('\\n')[0].strip()\n",
    "    return response\n",
    "print(\"\\n--- start inference ---\")\n"
   ]
  },
  {
   "cell_type": "code",
   "execution_count": 15,
   "id": "f66ee8d7",
   "metadata": {},
   "outputs": [
    {
     "name": "stderr",
     "output_type": "stream",
     "text": [
      "The attention mask is not set and cannot be inferred from input because pad token is same as eos token. As a consequence, you may observe unexpected behavior. Please pass your input's `attention_mask` to obtain reliable results.\n"
     ]
    },
    {
     "name": "stdout",
     "output_type": "stream",
     "text": [
      "('Case 1: ### Instruction:\\n'\n",
      " ' Energy from the Sun changes ocean water to a gas. This sentence describes '\n",
      " 'which step in the water cycle?  Choices are: condensation, evaporation, '\n",
      " 'precipitation, runoff\\n'\n",
      " '### Response:')\n",
      "Expected Answer: evaporation\n",
      "Generated Response: evaporation\n",
      "------------------------------\n",
      "('Case 2: ### Instruction:\\n'\n",
      " ' Sonar helps people find which information about an object?  Choices are: '\n",
      " 'Color, Weight, Location, Temperature\\n'\n",
      " '### Response:')\n",
      "Expected Answer: Location\n",
      "Generated Response: Color\n",
      "------------------------------\n",
      "('Case 3: ### Instruction:\\n'\n",
      " ' After rubbing a rubber brush on wool, Gilbert is able to use the brush to '\n",
      " 'pick up small strips of paper. What causes the paper to be attracted to the '\n",
      " 'brush?  Choices are: gravity, electric current, static electricity, '\n",
      " 'magnetism\\n'\n",
      " '### Response:')\n",
      "Expected Answer: static electricity\n",
      "Generated Response: electric current\n",
      "------------------------------\n",
      "('Case 4: ### Instruction:\\n'\n",
      " ' What will happen to a cell that is placed in a hypotonic saline solution?  '\n",
      " 'Choices are: Water will exit the cell causing it to shrink., Water will '\n",
      " 'enter the cell causing it to swell., Salt will exit the cell causing it to '\n",
      " 'shrink., Salt will enter the cell causing it to swell.\\n'\n",
      " '### Response:')\n",
      "Expected Answer: Water will enter the cell causing it to swell.\n",
      "Generated Response: Salt will enter the cell causing it to swell.\n",
      "------------------------------\n",
      "('Case 5: ### Instruction:\\n'\n",
      " ' The basic units of structure and function for both plants and animals are  '\n",
      " 'Choices are: cells., organs., systems., tissues.\\n'\n",
      " '### Response:')\n",
      "Expected Answer: cells.\n",
      "Generated Response: cells.\n",
      "------------------------------\n",
      "('Case 6: ### Instruction:\\n'\n",
      " ' Mr. Harris mows his lawn twice each month. He claims that it is better to '\n",
      " 'leave the clippings on the ground. Which long term effect will this most '\n",
      " 'likely have on his lawn?  Choices are: It will eventually cause the grass to '\n",
      " 'stop growing., It will prevent bacteria from invading the lawn., It will '\n",
      " 'provide the lawn with needed nutrients., It will reduce the insect '\n",
      " 'population.\\n'\n",
      " '### Response:')\n",
      "Expected Answer: It will provide the lawn with needed nutrients.\n",
      "Generated Response: It will eventually cause the grass to stop growing. (1)\n",
      "------------------------------\n",
      "('Case 7: ### Instruction:\\n'\n",
      " ' A student is investigating the effect of different nutrients on the growth '\n",
      " 'of seedling plants. Which of these would be an independent (manipulated) '\n",
      " 'variable in the investigation?  Choices are: water, sunlight, soil '\n",
      " 'nutrients, seedling plants\\n'\n",
      " '### Response:')\n",
      "Expected Answer: soil nutrients\n",
      "Generated Response: water, sunlight, soil nutrients, seedling plants\n",
      "------------------------------\n",
      "('Case 8: ### Instruction:\\n'\n",
      " ' Which is most responsible for reflecting incoming solar heat back to '\n",
      " 'space?  Choices are: clouds, mountains, ozone layers, trade winds\\n'\n",
      " '### Response:')\n",
      "Expected Answer: clouds\n",
      "Generated Response: clouds\n",
      "------------------------------\n",
      "('Case 9: ### Instruction:\\n'\n",
      " ' Which characteristic of a plant would best help it survive in a very dry '\n",
      " 'climate?  Choices are: colorful flowers to attract insects, strong stems to '\n",
      " 'stay upright, waxy leaves to keep in water, green color to photosynthesize\\n'\n",
      " '### Response:')\n",
      "Expected Answer: waxy leaves to keep in water\n",
      "Generated Response: green color to photosynthesize\n",
      "------------------------------\n",
      "('Case 10: ### Instruction:\\n'\n",
      " ' The building of houses in Maryland uses many different materials. Which '\n",
      " 'building material is made of a renewable natural resource?  Choices are: '\n",
      " 'copper wire, steel beams, wood boards, plastic siding\\n'\n",
      " '### Response:')\n",
      "Expected Answer: wood boards\n",
      "Generated Response: wood boards\n",
      "------------------------------\n"
     ]
    }
   ],
   "source": [
    "\n",
    "for i in range(len(testcase)):\n",
    "    prompt = testcase[i]['prompt']\n",
    "    answer = testcase[i]['answer']\n",
    "    pprint(f\"Case {i+1}: {prompt}\")\n",
    "    print(f\"Expected Answer: {answer}\")\n",
    "    response = generate_response(prompt)\n",
    "    print(f\"Generated Response: {response}\")\n",
    "    print(\"-\" * 30)\n"
   ]
  },
  {
   "cell_type": "markdown",
   "id": "2897dd6c",
   "metadata": {},
   "source": [
    "4/10 questions are answered correctly. And we can see that, model have a strong intention to try on answering these problem, even though some are wrong."
   ]
  },
  {
   "cell_type": "markdown",
   "id": "51836367",
   "metadata": {},
   "source": [
    "## Fine Tuning Method 2: LoRA"
   ]
  },
  {
   "cell_type": "markdown",
   "id": "aa21531e",
   "metadata": {},
   "source": [
    "In this part, we will focus on LoRA fine tuning. It will only adjust some parameters, but not all. So usually LoRA would be more efficient.\n",
    "\n",
    "In next cell, we set the arguments of training, run this fine tuning, and save the model.\n",
    "\n",
    "***IMPORTANT***\n",
    "\n",
    "Before run the next cell for training, ensure your GPU memory is released and avaliable. If not, restart python kernel and run all the preparation works again.\n"
   ]
  },
  {
   "cell_type": "code",
   "execution_count": 11,
   "id": "752a28ac",
   "metadata": {},
   "outputs": [
    {
     "name": "stderr",
     "output_type": "stream",
     "text": [
      "No label_names provided for model class `PeftModelForCausalLM`. Since `PeftModel` hides base models input arguments, if label_names is not given, label_names can't be set automatically within `Trainer`. Note that empty label_names list will be used instead.\n"
     ]
    },
    {
     "name": "stdout",
     "output_type": "stream",
     "text": [
      "trainable params: 2,359,296 || all params: 1,417,007,104 || trainable%: 0.1665\n"
     ]
    },
    {
     "data": {
      "text/html": [
       "\n",
       "    <div>\n",
       "      \n",
       "      <progress value='2735' max='2735' style='width:300px; height:20px; vertical-align: middle;'></progress>\n",
       "      [2735/2735 10:14, Epoch 5/5]\n",
       "    </div>\n",
       "    <table border=\"1\" class=\"dataframe\">\n",
       "  <thead>\n",
       " <tr style=\"text-align: left;\">\n",
       "      <th>Step</th>\n",
       "      <th>Training Loss</th>\n",
       "      <th>Validation Loss</th>\n",
       "    </tr>\n",
       "  </thead>\n",
       "  <tbody>\n",
       "    <tr>\n",
       "      <td>500</td>\n",
       "      <td>3.021100</td>\n",
       "      <td>2.530103</td>\n",
       "    </tr>\n",
       "    <tr>\n",
       "      <td>1000</td>\n",
       "      <td>2.067100</td>\n",
       "      <td>1.938576</td>\n",
       "    </tr>\n",
       "    <tr>\n",
       "      <td>1500</td>\n",
       "      <td>1.819500</td>\n",
       "      <td>1.846228</td>\n",
       "    </tr>\n",
       "    <tr>\n",
       "      <td>2000</td>\n",
       "      <td>1.776300</td>\n",
       "      <td>1.815563</td>\n",
       "    </tr>\n",
       "    <tr>\n",
       "      <td>2500</td>\n",
       "      <td>1.755300</td>\n",
       "      <td>1.805384</td>\n",
       "    </tr>\n",
       "  </tbody>\n",
       "</table><p>"
      ],
      "text/plain": [
       "<IPython.core.display.HTML object>"
      ]
     },
     "metadata": {},
     "output_type": "display_data"
    }
   ],
   "source": [
    "from peft import LoraConfig, get_peft_model, TaskType\n",
    "import gc\n",
    "import torch\n",
    "\n",
    "data_collator = DataCollatorForLanguageModeling(\n",
    "    tokenizer=tokenizer,\n",
    "    mlm=False,  # Causal language model does not use MLM\n",
    ")\n",
    "\n",
    "gc.collect()\n",
    "if torch.cuda.is_available():\n",
    "    torch.cuda.empty_cache()\n",
    "model = AutoModelForCausalLM.from_pretrained(checkpoint, torch_dtype=torch.bfloat16, device_map=\"auto\")\n",
    "\n",
    "lora_config = LoraConfig(\n",
    "    r=8,\n",
    "    lora_alpha=16,\n",
    "    target_modules=[\"query_key_value\", \"dense\"],\n",
    "    lora_dropout=0.05,\n",
    "    bias=\"none\",\n",
    "    task_type=TaskType.CAUSAL_LM,\n",
    ")\n",
    "\n",
    "model = get_peft_model(model, lora_config)\n",
    "model.print_trainable_parameters()\n",
    "lora_training_args = TrainingArguments(\n",
    "    output_dir=\"./arc-finetuned-lora\",\n",
    "    learning_rate=2e-6,\n",
    "    per_device_train_batch_size=8,\n",
    "    num_train_epochs=5,\n",
    "    weight_decay=0.01,\n",
    "    remove_unused_columns=False,\n",
    "    eval_strategy=\"steps\",\n",
    "    save_strategy=\"steps\",\n",
    "    eval_steps=500,\n",
    "    save_steps=500,\n",
    "    save_total_limit=2,\n",
    "    load_best_model_at_end=True,\n",
    "    warmup_ratio=0.03,\n",
    ")\n",
    "\n",
    "lora_trainer = Trainer(\n",
    "    model=model,\n",
    "    args=lora_training_args,\n",
    "    train_dataset=arc_tokenized['train'],\n",
    "    eval_dataset=arc_tokenized['test'],\n",
    "    processing_class=tokenizer,\n",
    "    data_collator=data_collator,\n",
    ")\n",
    "\n",
    "lora_trainer.train()\n",
    "lora_trainer.save_model(\"./arc-finetuned-lora\")"
   ]
  },
  {
   "cell_type": "markdown",
   "id": "a0b1f172",
   "metadata": {},
   "source": [
    "Time elapse: 10:14 for 5 epochs. This is much faster than full parameter fine tuning, so we train it with more epochs.\n",
    "\n",
    "### Inference the model with LoRA\n",
    "\n",
    "Similarly, we load the lora model and inference with testcases for evaluation."
   ]
  },
  {
   "cell_type": "code",
   "execution_count": 12,
   "id": "1e4e16d3",
   "metadata": {},
   "outputs": [
    {
     "name": "stdout",
     "output_type": "stream",
     "text": [
      "Tokenizer loaded from ./arc-finetuned-lora\n",
      "Using device: cuda\n",
      "Model loaded from ./arc-finetuned-lora and moved to cuda\n"
     ]
    }
   ],
   "source": [
    "\n",
    "import torch\n",
    "from transformers import AutoModelForCausalLM, AutoTokenizer\n",
    "model_dir = \"./arc-finetuned-lora\"\n",
    "try:\n",
    "    tokenizer = AutoTokenizer.from_pretrained(model_dir)\n",
    "    print(f\"Tokenizer loaded from {model_dir}\")\n",
    "except Exception as e:\n",
    "    print(f\"Error loading tokenizer from {model_dir}: {e}\")\n",
    "    print(\"Please ensure the directory contains tokenizer files (e.g., tokenizer_config.json, vocab.json).\")\n",
    "    exit()\n",
    "\n",
    "print(f\"Using device: {device}\")\n",
    "\n",
    "\n",
    "try:\n",
    "    model = AutoModelForCausalLM.from_pretrained(model_dir).to(device)\n",
    "    model.eval()\n",
    "    print(f\"Model loaded from {model_dir} and moved to {device}\")\n",
    "except Exception as e:\n",
    "    print(f\"Error loading model from {model_dir}: {e}\")\n",
    "    print(\"Please ensure the directory contains model files (e.g., config.json, pytorch_model.bin).\")\n",
    "    exit() \n",
    "\n",
    "def generate_response(prompt, input_text=None, max_new_tokens=32):\n",
    "    input_ids = tokenizer(prompt, return_tensors=\"pt\").input_ids.to(device)\n",
    "    prompt_length = input_ids.shape[1]\n",
    "    generated_ids = model.generate(\n",
    "        input_ids,\n",
    "        max_new_tokens=max_new_tokens,\n",
    "        num_beams=1,      \n",
    "        do_sample=False,            \n",
    "        pad_token_id=tokenizer.eos_token_id, \n",
    "        eos_token_id=tokenizer.eos_token_id  \n",
    "    )\n",
    "    \n",
    "    generated_text = tokenizer.decode(generated_ids[0], skip_special_tokens=True)\n",
    "    generated_response_ids = generated_ids[0][prompt_length:]\n",
    "    response = tokenizer.decode(generated_response_ids, skip_special_tokens=True).strip()\n",
    "    response = response.split('\\n')[0].strip()\n",
    "    return response"
   ]
  },
  {
   "cell_type": "code",
   "execution_count": 13,
   "id": "5e90692f",
   "metadata": {},
   "outputs": [
    {
     "name": "stderr",
     "output_type": "stream",
     "text": [
      "The attention mask is not set and cannot be inferred from input because pad token is same as eos token. As a consequence, you may observe unexpected behavior. Please pass your input's `attention_mask` to obtain reliable results.\n"
     ]
    },
    {
     "name": "stdout",
     "output_type": "stream",
     "text": [
      "\n",
      "--- start inference ---\n",
      "('Case 1: ### Instruction:\\n'\n",
      " ' Energy from the Sun changes ocean water to a gas. This sentence describes '\n",
      " 'which step in the water cycle?  Choices are: condensation, evaporation, '\n",
      " 'precipitation, runoff\\n'\n",
      " '### Response:')\n",
      "Expected Answer: evaporation\n",
      "Generated Response: evaporation\n",
      "------------------------------\n",
      "('Case 2: ### Instruction:\\n'\n",
      " ' Sonar helps people find which information about an object?  Choices are: '\n",
      " 'Color, Weight, Location, Temperature\\n'\n",
      " '### Response:')\n",
      "Expected Answer: Location\n",
      "Generated Response: Color\n",
      "------------------------------\n",
      "('Case 3: ### Instruction:\\n'\n",
      " ' After rubbing a rubber brush on wool, Gilbert is able to use the brush to '\n",
      " 'pick up small strips of paper. What causes the paper to be attracted to the '\n",
      " 'brush?  Choices are: gravity, electric current, static electricity, '\n",
      " 'magnetism\\n'\n",
      " '### Response:')\n",
      "Expected Answer: static electricity\n",
      "Generated Response: magnetism\n",
      "------------------------------\n",
      "('Case 4: ### Instruction:\\n'\n",
      " ' What will happen to a cell that is placed in a hypotonic saline solution?  '\n",
      " 'Choices are: Water will exit the cell causing it to shrink., Water will '\n",
      " 'enter the cell causing it to swell., Salt will exit the cell causing it to '\n",
      " 'shrink., Salt will enter the cell causing it to swell.\\n'\n",
      " '### Response:')\n",
      "Expected Answer: Water will enter the cell causing it to swell.\n",
      "Generated Response: Salt will enter the cell causing it to swell.\n",
      "------------------------------\n",
      "('Case 5: ### Instruction:\\n'\n",
      " ' The basic units of structure and function for both plants and animals are  '\n",
      " 'Choices are: cells., organs., systems., tissues.\\n'\n",
      " '### Response:')\n",
      "Expected Answer: cells.\n",
      "Generated Response: organs.\n",
      "------------------------------\n",
      "('Case 6: ### Instruction:\\n'\n",
      " ' Mr. Harris mows his lawn twice each month. He claims that it is better to '\n",
      " 'leave the clippings on the ground. Which long term effect will this most '\n",
      " 'likely have on his lawn?  Choices are: It will eventually cause the grass to '\n",
      " 'stop growing., It will prevent bacteria from invading the lawn., It will '\n",
      " 'provide the lawn with needed nutrients., It will reduce the insect '\n",
      " 'population.\\n'\n",
      " '### Response:')\n",
      "Expected Answer: It will provide the lawn with needed nutrients.\n",
      "Generated Response: It will reduce the insect population.\n",
      "------------------------------\n",
      "('Case 7: ### Instruction:\\n'\n",
      " ' A student is investigating the effect of different nutrients on the growth '\n",
      " 'of seedling plants. Which of these would be an independent (manipulated) '\n",
      " 'variable in the investigation?  Choices are: water, sunlight, soil '\n",
      " 'nutrients, seedling plants\\n'\n",
      " '### Response:')\n",
      "Expected Answer: soil nutrients\n",
      "Generated Response: sunlight\n",
      "------------------------------\n",
      "('Case 8: ### Instruction:\\n'\n",
      " ' Which is most responsible for reflecting incoming solar heat back to '\n",
      " 'space?  Choices are: clouds, mountains, ozone layers, trade winds\\n'\n",
      " '### Response:')\n",
      "Expected Answer: clouds\n",
      "Generated Response: clouds\n",
      "------------------------------\n",
      "('Case 9: ### Instruction:\\n'\n",
      " ' Which characteristic of a plant would best help it survive in a very dry '\n",
      " 'climate?  Choices are: colorful flowers to attract insects, strong stems to '\n",
      " 'stay upright, waxy leaves to keep in water, green color to photosynthesize\\n'\n",
      " '### Response:')\n",
      "Expected Answer: waxy leaves to keep in water\n",
      "Generated Response: strong stems to stay upright\n",
      "------------------------------\n",
      "('Case 10: ### Instruction:\\n'\n",
      " ' The building of houses in Maryland uses many different materials. Which '\n",
      " 'building material is made of a renewable natural resource?  Choices are: '\n",
      " 'copper wire, steel beams, wood boards, plastic siding\\n'\n",
      " '### Response:')\n",
      "Expected Answer: wood boards\n",
      "Generated Response: wood boards\n",
      "------------------------------\n"
     ]
    }
   ],
   "source": [
    "print(\"\\n--- start inference ---\")\n",
    "for i in range(len(testcase)):\n",
    "    prompt = testcase[i]['prompt']\n",
    "    answer = testcase[i]['answer']\n",
    "    pprint(f\"Case {i+1}: {prompt}\")\n",
    "    print(f\"Expected Answer: {answer}\")\n",
    "    response = generate_response(prompt)\n",
    "    print(f\"Generated Response: {response}\")\n",
    "    print(\"-\" * 30)"
   ]
  },
  {
   "cell_type": "markdown",
   "id": "c06aeada",
   "metadata": {},
   "source": [
    "3/10 answers are right."
   ]
  },
  {
   "cell_type": "markdown",
   "id": "9416bf52",
   "metadata": {},
   "source": [
    "## Conclusion\n",
    "\n",
    "Compared with full parameter fine tuning, LoRA have 3 times efficiency in training and similarly outcome.\n",
    "\n",
    "Due to the small size of this base model, it is hard to improve the scores in testcases, but this experimentation still shows the improvement of a fine tuning work: make the model answering question, but not response something else."
   ]
  },
  {
   "cell_type": "markdown",
   "id": "3cb47603",
   "metadata": {},
   "source": [
    "## References\n",
    "\n",
    "- [Fine-tuning Tutorial by Huggingface](https://huggingface.co/docs/transformers/en/training)\n",
    "- [LoRA Tutorial by Huggingface](https://huggingface.co/docs/diffusers/en/training/lora)\n",
    "- Biderman, Stella, et al. \"Pythia: A suite for analyzing large language models across training and scaling.\" International Conference on Machine Learning. PMLR, 2023.\n",
    "- Ding, Ning, et al. \"Parameter-efficient fine-tuning of large-scale pre-trained language models.\" Nature Machine Intelligence 5.3 (2023): 220-235.\n",
    "- Clark, Peter, et al. \"Think you have solved question answering? try arc, the ai2 reasoning challenge.\" arXiv preprint arXiv:1803.05457 (2018)."
   ]
  }
 ],
 "metadata": {
  "kernelspec": {
   "display_name": ".venv",
   "language": "python",
   "name": "python3"
  },
  "language_info": {
   "codemirror_mode": {
    "name": "ipython",
    "version": 3
   },
   "file_extension": ".py",
   "mimetype": "text/x-python",
   "name": "python",
   "nbconvert_exporter": "python",
   "pygments_lexer": "ipython3",
   "version": "3.13.1"
  }
 },
 "nbformat": 4,
 "nbformat_minor": 5
}
